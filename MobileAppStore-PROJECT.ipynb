{
 "cells": [
  {
   "cell_type": "markdown",
   "metadata": {},
   "source": [
    "# Finding Opportunities for New Apps - in  App Store and Google Play"
   ]
  },
  {
   "cell_type": "markdown",
   "metadata": {},
   "source": [
    "Our goal for this project is to analyze data to understand what type of apps are likely to attract more users. We are goint to find profitable mobile app for the App Store and Google Play markets.  \n",
    "\n",
    "We only build apps that are free to download and install, and our main source of revenue consists of in-app ads. This means that our revenue for any given app is mostly influenced by the number of users that use our app. \n",
    "\n",
    "To do this, we'll need to analyze data about mobile apps available on Google Play and the App Store. we'll try to analyze a sample of the data."
   ]
  },
  {
   "cell_type": "markdown",
   "metadata": {},
   "source": [
    "## Exploring the Data\n",
    "\n",
    "We'll examine two data sets:\n",
    "* [data](https://www.kaggle.com/lava18/google-play-store-apps/home) about approximately ten thousand Android apps from Google Play\n",
    "* [data](https://www.kaggle.com/ramamet4/app-store-apple-data-set-10k-apps/home) about approximately seven thousand iOS apps from the App Store\n",
    "\n",
    "Function **open_dataset** - open csv file, read in the opened file using the reader() function and return - list of lists and header\n",
    "\n",
    "Function **print_info_dataset** - exploring the data, print header, first rows of data and number of rows and number of columns"
   ]
  },
  {
   "cell_type": "code",
   "execution_count": 1,
   "metadata": {
    "scrolled": true
   },
   "outputs": [],
   "source": [
    "# Open csv file and return - list of lists with header separately\n",
    "\n",
    "def open_dataset(file_name, key = 'r', header_ = True):  \n",
    "    \n",
    "    opened_file = open(file_name, key, encoding='utf8')   # open file (read mode by default)\n",
    "    from csv import reader\n",
    "    read_file = reader(opened_file) # reading file\n",
    "    data = list(read_file)   # creating List of Lists\n",
    "    header = []\n",
    "    if header_:\n",
    "        return data[0], data[1:]      # select the header separately\n",
    "    else:\n",
    "        return header, data"
   ]
  },
  {
   "cell_type": "markdown",
   "metadata": {},
   "source": [
    "> Function print_info_dataset - exploring the data, print header, first rows of data and number of rows and number of columns"
   ]
  },
  {
   "cell_type": "code",
   "execution_count": 2,
   "metadata": {},
   "outputs": [],
   "source": [
    "# Function to print info about Dataset\n",
    "\n",
    "def print_info_dataset(data, header, num_rows = 2):\n",
    "    if header:\n",
    "        print('Header - Names of columns ','\\n','\\n', header)    \n",
    "    print('\\n', 'First', num_rows, 'rows of dataset')\n",
    "    for item in data[:num_rows]:\n",
    "        print('\\n', item) \n",
    "    \n",
    "    print('\\n', len(data), '- Number of rows - всего строк с данными / без строки заголовка')\n",
    "    print(len(data[0]), '- Number of columns - всего столбцов с данными')\n"
   ]
  },
  {
   "cell_type": "markdown",
   "metadata": {},
   "source": [
    "> Let's open the two data sets and exploring the data"
   ]
  },
  {
   "cell_type": "code",
   "execution_count": 3,
   "metadata": {
    "scrolled": true
   },
   "outputs": [
    {
     "name": "stdout",
     "output_type": "stream",
     "text": [
      "### IOS apps ### \n",
      "\n",
      "Header - Names of columns  \n",
      " \n",
      " ['', 'id', 'track_name', 'size_bytes', 'currency', 'price', 'rating_count_tot', 'rating_count_ver', 'user_rating', 'user_rating_ver', 'ver', 'cont_rating', 'prime_genre', 'sup_devices.num', 'ipadSc_urls.num', 'lang.num', 'vpp_lic']\n",
      "\n",
      " First 2 rows of dataset\n",
      "\n",
      " ['1', '281656475', 'PAC-MAN Premium', '100788224', 'USD', '3.99', '21292', '26', '4', '4.5', '6.3.5', '4+', 'Games', '38', '5', '10', '1']\n",
      "\n",
      " ['2', '281796108', 'Evernote - stay organized', '158578688', 'USD', '0', '161065', '26', '4', '3.5', '8.2.2', '4+', 'Productivity', '37', '5', '23', '1']\n",
      "\n",
      " 7197 - Number of rows - всего строк с данными / без строки заголовка\n",
      "17 - Number of columns - всего столбцов с данными\n",
      "-----------------------------\n",
      "\n",
      "\n",
      "### Android apps ### \n",
      "\n",
      "Header - Names of columns  \n",
      " \n",
      " ['App', 'Category', 'Rating', 'Reviews', 'Size', 'Installs', 'Type', 'Price', 'Content Rating', 'Genres', 'Last Updated', 'Current Ver', 'Android Ver']\n",
      "\n",
      " First 2 rows of dataset\n",
      "\n",
      " ['Photo Editor & Candy Camera & Grid & ScrapBook', 'ART_AND_DESIGN', '4.1', '159', '19M', '10,000+', 'Free', '0', 'Everyone', 'Art & Design', 'January 7, 2018', '1.0.0', '4.0.3 and up']\n",
      "\n",
      " ['Coloring book moana', 'ART_AND_DESIGN', '3.9', '967', '14M', '500,000+', 'Free', '0', 'Everyone', 'Art & Design;Pretend Play', 'January 15, 2018', '2.0.0', '4.0.3 and up']\n",
      "\n",
      " 10841 - Number of rows - всего строк с данными / без строки заголовка\n",
      "13 - Number of columns - всего столбцов с данными\n"
     ]
    }
   ],
   "source": [
    "\n",
    "header_ios, data_ios = open_dataset ('AppleStore.csv')    \n",
    "print('### IOS apps ###', '\\n')\n",
    "print_info_dataset(data_ios, header_ios)\n",
    "print('-----------------------------')\n",
    "print('\\n')\n",
    "\n",
    "header_goo, data_goo = open_dataset ('googleplaystore.csv')    \n",
    "print('### Android apps ###', '\\n')\n",
    "print_info_dataset(data_goo, header_goo)"
   ]
  },
  {
   "cell_type": "markdown",
   "metadata": {},
   "source": [
    "---\n"
   ]
  },
  {
   "cell_type": "markdown",
   "metadata": {},
   "source": [
    "* First data set contains information about 7197 Apple iOS mobile applications. The data was extracted from the iTunes Search API at the Apple Inc website. \n",
    "*  7197 rows and 16 columns\n",
    "\n",
    "**Columns in the data set  iOS apps from the App Store:**\n",
    "\n",
    "\n",
    "| № | Column name      | Description |\n",
    "| - | ----------- | ----------- |\n",
    "| 1 | \"id\"      | App ID       |\n",
    "| 2 | \"track_name\"   | App Name        |\n",
    "| 3 |\"size_bytes\"| Size (in Bytes)|\n",
    "| 4 |\"currency\"| Currency Type|\n",
    "| 5 |\"price\"| Price amount|\n",
    "| 6 |\"rating_count_tot\"| User Rating counts (for all version)|\n",
    "| 7 |\"rating_count_ver\"| User Rating counts (for current version)|\n",
    "| 8 |\"user_rating\" | Average User Rating value (for all version)|\n",
    "| 9 |\"user_rating_ver\"| Average User Rating value (for current version)|\n",
    "|10 |\"ver\" | Latest version code|\n",
    "|11 |\"cont_rating\"| Content Rating|\n",
    "|12 |\"prime_genre\"| Primary Genre|\n",
    "|13 |\"sup_devices.num\"| Number of supporting devices|\n",
    "|14 |\"ipadSc_urls.num\"| Number of screenshots showed for display|\n",
    "|15 |\"lang.num\"| Number of supported languages|\n",
    "|16 |\"vpp_lic\"| Vpp Device Based Licensing Enabled|\n",
    "\n",
    "* Second Datase -  This information is scraped from the Google Play Store. \n",
    "* 10841 rows and 13 columns\n",
    "\n",
    "**Columns in the data set  Android apps from Google Play**\n",
    "\n",
    "| № | Column name      | Description |\n",
    "| - | ----------- | ----------- |\n",
    "| 0 | \"App\"      | App Name       |\n",
    "| 1 | \"Category\"   |Category|\n",
    "| 2 |\"Rating\"| Rating|\n",
    "| 3 |\"Reviews\"|Reviews |\n",
    "| 4 |\"Size\"| Size|\n",
    "| 5 |\"Installs\"| Number of Istalls|\n",
    "| 6 |\"Type\"| Free or not|\n",
    "| 7 |\"Price\" |Price amount|\n",
    "| 8 |\"Content Rating\"| Content Rating|\n",
    "| 9 |\"Genres\" | Primary Genre|\n",
    "|10 |\"Last Updated\"| Last Updated|\n",
    "|11 |\"Current Ver\"| Current Ver|\n",
    "|12 |\"Android Ver\"| Android Ver|\n"
   ]
  },
  {
   "cell_type": "markdown",
   "metadata": {},
   "source": [
    "## Data cleaning and formatting"
   ]
  },
  {
   "cell_type": "markdown",
   "metadata": {},
   "source": [
    "Let's make data cleaning before the analysis; it includes removing or correcting wrong data, removing duplicate data, and modifying the data to fit the purpose of our analysis.\n",
    "\n",
    "We need to:\n",
    "* Remove or correct inaccurate data\n",
    "* Detect duplicate data, and remove the duplicates. \n",
    "\n",
    "in our analysis we are interested in **free** apps and apps in English. We need to:\n",
    "* Remove non-English apps\n",
    "* Remove apps that aren't free."
   ]
  },
  {
   "cell_type": "markdown",
   "metadata": {},
   "source": [
    "### Correct data"
   ]
  },
  {
   "cell_type": "markdown",
   "metadata": {},
   "source": [
    "> The Google Play data set (data_goo) has a discussion section. We've found [here](https://www.kaggle.com/lava18/google-play-store-apps/discussion/66015) the information about wrong data in dataset.\n",
    "\n",
    "> The problem is in row 10472.\n"
   ]
  },
  {
   "cell_type": "code",
   "execution_count": 4,
   "metadata": {},
   "outputs": [
    {
     "name": "stdout",
     "output_type": "stream",
     "text": [
      "['App', 'Category', 'Rating', 'Reviews', 'Size', 'Installs', 'Type', 'Price', 'Content Rating', 'Genres', 'Last Updated', 'Current Ver', 'Android Ver'] \n",
      "\n",
      "[['Life Made WI-Fi Touchscreen Photo Frame', '1.9', '19', '3.0M', '1,000+', 'Free', '0', 'Everyone', '', 'February 11, 2018', '1.0.19', '4.0 and up'], ['osmino Wi-Fi: free WiFi', 'TOOLS', '4.2', '134203', '4.1M', '10,000,000+', 'Free', '0', 'Everyone', 'Tools', 'August 7, 2018', '6.06.14', '4.4 and up']]\n"
     ]
    }
   ],
   "source": [
    "print(header_goo, '\\n')  # Header\n",
    "print(data_goo[10472:10474])   # 2 rows"
   ]
  },
  {
   "cell_type": "markdown",
   "metadata": {},
   "source": [
    "> The maximum rating for a Google Play app is 5. The problem in row 10472 is - its \"category\" column data is missing in this row 10472. We'll take missing data from [here](https://play.google.com/store/apps/details?id=com.lifemade.internetPhotoframe) and correct the row."
   ]
  },
  {
   "cell_type": "code",
   "execution_count": 5,
   "metadata": {
    "scrolled": true
   },
   "outputs": [
    {
     "name": "stdout",
     "output_type": "stream",
     "text": [
      "['Life Made WI-Fi Touchscreen Photo Frame', 'LIFESTYLE', '1.9', '19', '3.0M', '1,000+', 'Free', '0', 'Everyone', '', 'February 11, 2018', '1.0.19', '4.0 and up']\n"
     ]
    }
   ],
   "source": [
    "\n",
    "# Correcting data for row 10472\n",
    "for item in data_goo:\n",
    "    # two conditions - if you run this more than once\n",
    "    if item[0] == 'Life Made WI-Fi Touchscreen Photo Frame' and float(item[2]) == 19:  \n",
    "        item.insert(1, 'LIFESTYLE')  # list.insert(i, x)\n",
    "\n",
    "print(data_goo[10472])"
   ]
  },
  {
   "cell_type": "markdown",
   "metadata": {},
   "source": [
    "### Removing Duplicate Entries"
   ]
  },
  {
   "cell_type": "markdown",
   "metadata": {},
   "source": [
    "> * We don't want to count certain apps more than once when we analyze data, so we need to remove the duplicate entries.\n",
    "> * FLet's find all duplicate rows in our data set. unction **duplicate**"
   ]
  },
  {
   "cell_type": "code",
   "execution_count": 6,
   "metadata": {
    "scrolled": true
   },
   "outputs": [
    {
     "name": "stdout",
     "output_type": "stream",
     "text": [
      "duplicate rows in data_goo -  483 ; unique rows in data_goo - unique_goo: 10358 \n",
      "\n",
      "duplicate rows in data_ios -  0 ; unique rows in data_ios -  7197\n",
      "\n",
      "\n",
      "[['Photo Editor & Candy Camera & Grid & ScrapBook', 'ART_AND_DESIGN', '4.1', '159', '19M', '10,000+', 'Free', '0', 'Everyone', 'Art & Design', 'January 7, 2018', '1.0.0', '4.0.3 and up'], ['Coloring book moana', 'ART_AND_DESIGN', '3.9', '967', '14M', '500,000+', 'Free', '0', 'Everyone', 'Art & Design;Pretend Play', 'January 15, 2018', '2.0.0', '4.0.3 and up'], ['U Launcher Lite – FREE Live Cool Themes, Hide Apps', 'ART_AND_DESIGN', '4.7', '87510', '8.7M', '5,000,000+', 'Free', '0', 'Everyone', 'Art & Design', 'August 1, 2018', '1.2.4', '4.0.3 and up']]\n"
     ]
    }
   ],
   "source": [
    "def duplicate(data):\n",
    "    duplicate_rows = []\n",
    "    unique_rows = []\n",
    "    for item in data:\n",
    "        if item in unique_rows:\n",
    "            duplicate_rows.append(item)\n",
    "        else:\n",
    "            unique_rows.append(item)\n",
    "    return duplicate_rows, unique_rows\n",
    "\n",
    "duplicate_goo, unique_goo = duplicate(data_goo)\n",
    "duplicate_ios, unique_ios = duplicate(data_ios)\n",
    "\n",
    "print('duplicate rows in data_goo - ', len(duplicate_goo), '; unique rows in data_goo - unique_goo:', len(unique_goo),  '\\n')\n",
    "print('duplicate rows in data_ios - ', len(duplicate_ios), '; unique rows in data_ios - ', len(unique_ios))\n",
    "print('\\n')\n",
    "print(unique_goo[:3])"
   ]
  },
  {
   "cell_type": "markdown",
   "metadata": {},
   "source": [
    "> * The Google Play data set (data_goo)  has duplicate Entries. We make data set ** unique_goo** without duplicate rows\n",
    "\n",
    "> * We have information from [here](https://www.kaggle.com/lava18/google-play-store-apps/discussion/82616) about other type of duplicate entries.\n",
    "> * We have duplicate rows where the difference happens on the 3 position of each row (number of reviews). That means the data was collected at different times. Removing duplicates, we'll keep the row with the highest number of reviews (the higher the number of reviews, the more reliable the ratings).\n",
    "\n",
    "> * We'll create a dictionary **reviews_max**, where each dictionary key is a unique app name and the corresponding dictionary value is the highest number of reviews of that app."
   ]
  },
  {
   "cell_type": "code",
   "execution_count": 7,
   "metadata": {},
   "outputs": [
    {
     "name": "stdout",
     "output_type": "stream",
     "text": [
      "rows in dictionary reviews_max -- 9660\n"
     ]
    }
   ],
   "source": [
    "reviews_max = {}\n",
    "for item in unique_goo:\n",
    "    name = item[0]\n",
    "    if name in reviews_max and float(reviews_max[name]) < float(item[3]):\n",
    "        reviews_max[name] = float(item[3])\n",
    "    elif name not in reviews_max:\n",
    "        reviews_max[name] = float(item[3])\n",
    "\n",
    "print('rows in dictionary reviews_max --', len(reviews_max))"
   ]
  },
  {
   "cell_type": "markdown",
   "metadata": {},
   "source": [
    "> * We've found 9660 unique rows\n",
    "> * Use dictionary  to remove the duplicates, and create a new data set **goo_clean**, which will have only one entry per app. we'll only keep the entries with the highest number of reviews. "
   ]
  },
  {
   "cell_type": "code",
   "execution_count": 8,
   "metadata": {},
   "outputs": [
    {
     "name": "stdout",
     "output_type": "stream",
     "text": [
      "9660\n"
     ]
    }
   ],
   "source": [
    "goo_clean = []\n",
    "goo_added = []\n",
    "\n",
    "for item in unique_goo:\n",
    "    name = item[0]\n",
    "    if float(item[3]) == reviews_max[name] and name not in goo_added:\n",
    "        goo_clean.append(item)\n",
    "        goo_added.append(name)\n",
    "\n",
    "print(len(goo_clean))          "
   ]
  },
  {
   "cell_type": "markdown",
   "metadata": {},
   "source": [
    "> let's explore the new data set **goo_clean**, and confirm that the number of rows is 9,660."
   ]
  },
  {
   "cell_type": "code",
   "execution_count": 9,
   "metadata": {
    "scrolled": true
   },
   "outputs": [
    {
     "name": "stdout",
     "output_type": "stream",
     "text": [
      "### Unique Android apps ###\n",
      "Header - Names of columns  \n",
      " \n",
      " ['App', 'Category', 'Rating', 'Reviews', 'Size', 'Installs', 'Type', 'Price', 'Content Rating', 'Genres', 'Last Updated', 'Current Ver', 'Android Ver']\n",
      "\n",
      " First 2 rows of dataset\n",
      "\n",
      " ['Photo Editor & Candy Camera & Grid & ScrapBook', 'ART_AND_DESIGN', '4.1', '159', '19M', '10,000+', 'Free', '0', 'Everyone', 'Art & Design', 'January 7, 2018', '1.0.0', '4.0.3 and up']\n",
      "\n",
      " ['U Launcher Lite – FREE Live Cool Themes, Hide Apps', 'ART_AND_DESIGN', '4.7', '87510', '8.7M', '5,000,000+', 'Free', '0', 'Everyone', 'Art & Design', 'August 1, 2018', '1.2.4', '4.0.3 and up']\n",
      "\n",
      " 9660 - Number of rows - всего строк с данными / без строки заголовка\n",
      "13 - Number of columns - всего столбцов с данными\n"
     ]
    }
   ],
   "source": [
    "print('### Unique Android apps ###')\n",
    "print_info_dataset(goo_clean, header_goo)"
   ]
  },
  {
   "cell_type": "markdown",
   "metadata": {},
   "source": [
    "### Removing Non-English Apps"
   ]
  },
  {
   "cell_type": "markdown",
   "metadata": {},
   "source": [
    "> We'd like to analyze only the apps that are directed toward an English-speaking audience\n",
    "\n",
    "> **English name of apps** — English text usually includes letters from the English alphabet, numbers composed of digits from 0 to 9, punctuation marks (., !, ?, ;), and other symbols (+, *, /)\n",
    "\n",
    "> The numbers corresponding to the characters we commonly use in an English text are all in the range 0 to 127, according to the ASCII. Based on this number range, we can build a function that detects whether a character belongs to the set of common English characters or not. If an app name contains a character that is greater than 127, then it probably means that the app has a non-English name. "
   ]
  },
  {
   "cell_type": "markdown",
   "metadata": {},
   "source": [
    "> emojis and characters like ™ fall outside the ASCII range and have corresponding numbers over 127. \n",
    "\n",
    "> We'll lose useful data since many English apps will be incorrectly labeled as non-English. To minimize the impact of data loss, we'll only remove an app if its name has more than three characters with corresponding numbers falling outside the ASCII range. \n",
    "\n",
    "> This means all English apps with up to three emoji or other special characters will still be labeled as English. *Our filter function is still not perfect, but it should be fairly effective*."
   ]
  },
  {
   "cell_type": "code",
   "execution_count": 10,
   "metadata": {
    "scrolled": true
   },
   "outputs": [
    {
     "name": "stdout",
     "output_type": "stream",
     "text": [
      "### Unique Android apps with English names ###\n",
      "Unique Android apps with English names-  9615 from 9660\n",
      "\n",
      "\n",
      "### Unique Apple IOS apps with English names ###\n",
      "Unique Aplle IOS apps with English names-  6183 from 7197\n"
     ]
    }
   ],
   "source": [
    "def eng(data, col_num):  #col_num - number of column with Name of apps\n",
    "    rows_to_del = []\n",
    "    del_data = data.copy()\n",
    "    for item in data:\n",
    "        name = item[col_num]\n",
    "        string = item[col_num]\n",
    "        count = 0\n",
    "        for letter in string:\n",
    "            if ord(letter) > 127:\n",
    "                #print(ord(letter))\n",
    "                count = count + 1\n",
    "                #print(count)\n",
    "        #print(count)\n",
    "        if count > 3:\n",
    "            #print('del')\n",
    "            del_data.remove(item)\n",
    "    return del_data\n",
    "\n",
    "print('### Unique Android apps with English names ###')\n",
    "goo_clean_eng = eng(goo_clean, 0)\n",
    "print('Unique Android apps with English names- ', len(goo_clean_eng), 'from', len(goo_clean))\n",
    "\n",
    "print('\\n')\n",
    "\n",
    "print('### Unique Apple IOS apps with English names ###')\n",
    "ios_clean_eng = eng(data_ios,2)\n",
    "print('Unique Aplle IOS apps with English names- ', len(ios_clean_eng), 'from', len(data_ios))"
   ]
  },
  {
   "cell_type": "markdown",
   "metadata": {},
   "source": [
    "> We have 9615 Android apps and 6183 iOS apps."
   ]
  },
  {
   "cell_type": "markdown",
   "metadata": {},
   "source": [
    "## Isolating the Free Apps"
   ]
  },
  {
   "cell_type": "code",
   "execution_count": 11,
   "metadata": {
    "scrolled": true
   },
   "outputs": [
    {
     "name": "stdout",
     "output_type": "stream",
     "text": [
      "Free Applications\n",
      "\n",
      "\n",
      "Free Android Applications 8865\n",
      "Free IOS Applications 3222\n"
     ]
    }
   ],
   "source": [
    "free_goo_apps = []    \n",
    "for item in goo_clean_eng:\n",
    "    if item[7] == '0':\n",
    "        free_goo_apps.append(item)\n",
    "\n",
    "free_ios_apps = []    \n",
    "for item in ios_clean_eng:\n",
    "    if float(item[5]) == 0:\n",
    "        free_ios_apps.append(item)\n",
    "\n",
    "\n",
    "print('Free Applications')\n",
    "print('\\n')\n",
    "\n",
    "print('Free Android Applications', len(free_goo_apps))\n",
    "\n",
    "print('Free IOS Applications', len(free_ios_apps))\n",
    "       "
   ]
  },
  {
   "cell_type": "markdown",
   "metadata": {},
   "source": [
    "# Most Common Apps by Genre"
   ]
  },
  {
   "cell_type": "markdown",
   "metadata": {},
   "source": [
    "> Our aim is to determine the kinds of apps that are likely to attract more users. Because our end goal is to add the app on both Google Play and the App Store, we need to find app profiles that are successful on both markets. \n"
   ]
  },
  {
   "cell_type": "markdown",
   "metadata": {},
   "source": [
    "> Function **frequency**  to generate **frequency tables** that show percentages  in a descending order - for any column in data  set - *col_num*"
   ]
  },
  {
   "cell_type": "code",
   "execution_count": 12,
   "metadata": {},
   "outputs": [],
   "source": [
    "## frequency table - function/ frequency of values on any column (col_num). \n",
    "# data sorted descending\n",
    "# col_num = -5 by default - prime_genre Apple IOS. \n",
    "\n",
    "def frequency(data, col_num = -5):\n",
    "    content_ratings = {}\n",
    "    for item in data:\n",
    "        c_rating = item[col_num]\n",
    "        if c_rating in content_ratings:\n",
    "            content_ratings[c_rating] += 1\n",
    "        else:\n",
    "            content_ratings[c_rating] = 1\n",
    "    \n",
    "    for key in content_ratings:\n",
    "        proc = (content_ratings[key] / len(data)) * 100\n",
    "        content_ratings[key] = round(proc,3)\n",
    "        \n",
    "    l = lambda x: x[1]\n",
    "    content_ratings = sorted(content_ratings.items(), key=l, reverse=True)\n",
    "    \n",
    "    return content_ratings\n"
   ]
  },
  {
   "cell_type": "markdown",
   "metadata": {},
   "source": [
    "\n",
    "> Let's begin the analysis by getting a sense of what are the most common genres for each market. \n",
    "\n",
    "* build frequency tables for the **prime_genre** column of the App Store data set \n"
   ]
  },
  {
   "cell_type": "code",
   "execution_count": 13,
   "metadata": {
    "scrolled": true
   },
   "outputs": [
    {
     "name": "stdout",
     "output_type": "stream",
     "text": [
      "\n",
      " IOS Apps by prime_genre column \n",
      "[('Games', 58.163),\n",
      " ('Entertainment', 7.883),\n",
      " ('Photo & Video', 4.966),\n",
      " ('Education', 3.662),\n",
      " ('Social Networking', 3.29),\n",
      " ('Shopping', 2.607),\n",
      " ('Utilities', 2.514),\n",
      " ('Sports', 2.142),\n",
      " ('Music', 2.048),\n",
      " ('Health & Fitness', 2.017),\n",
      " ('Productivity', 1.738),\n",
      " ('Lifestyle', 1.583),\n",
      " ('News', 1.335),\n",
      " ('Travel', 1.241),\n",
      " ('Finance', 1.117),\n",
      " ('Weather', 0.869),\n",
      " ('Food & Drink', 0.807),\n",
      " ('Reference', 0.559),\n",
      " ('Business', 0.528),\n",
      " ('Book', 0.435),\n",
      " ('Navigation', 0.186),\n",
      " ('Medical', 0.186),\n",
      " ('Catalogs', 0.124)]\n"
     ]
    }
   ],
   "source": [
    "import pprint  # Prints the nicely formatted dictionary\n",
    "\n",
    "genre_ios_frequency = frequency(free_ios_apps)\n",
    "print('\\n', 'IOS Apps by prime_genre column ')\n",
    "pprint.pprint(genre_ios_frequency)\n"
   ]
  },
  {
   "cell_type": "markdown",
   "metadata": {},
   "source": [
    "Among the free English apps, **more than a half (58.16%) are games**.\n",
    "Entertainment apps are close to 8%, followed by photo and video apps, which are close to 5%. Only 3.66% of the apps are designed for education\n",
    "\n",
    "App Store (at least the part containing free English apps) is dominated by apps that are designed for fun (games, entertainment, photo and video, social networking, sports, music, etc.), while apps with practical purposes (education, shopping, utilities, productivity, lifestyle, etc.) are more rare. However, this fact doesn't also imply that they also have the greatest number of users"
   ]
  },
  {
   "cell_type": "markdown",
   "metadata": {},
   "source": [
    "* the **Category** columns of the Google Play data set."
   ]
  },
  {
   "cell_type": "code",
   "execution_count": 14,
   "metadata": {},
   "outputs": [
    {
     "name": "stdout",
     "output_type": "stream",
     "text": [
      "\n",
      " Android Apps by categoty column \n",
      "[('FAMILY', 18.906),\n",
      " ('GAME', 9.724),\n",
      " ('TOOLS', 8.46),\n",
      " ('BUSINESS', 4.591),\n",
      " ('LIFESTYLE', 3.914),\n",
      " ('PRODUCTIVITY', 3.892),\n",
      " ('FINANCE', 3.7),\n",
      " ('MEDICAL', 3.531),\n",
      " ('SPORTS', 3.395),\n",
      " ('PERSONALIZATION', 3.316),\n",
      " ('COMMUNICATION', 3.237),\n",
      " ('HEALTH_AND_FITNESS', 3.08),\n",
      " ('PHOTOGRAPHY', 2.944),\n",
      " ('NEWS_AND_MAGAZINES', 2.798),\n",
      " ('SOCIAL', 2.662),\n",
      " ('TRAVEL_AND_LOCAL', 2.335),\n",
      " ('SHOPPING', 2.245),\n",
      " ('BOOKS_AND_REFERENCE', 2.143),\n",
      " ('DATING', 1.861),\n",
      " ('VIDEO_PLAYERS', 1.794),\n",
      " ('MAPS_AND_NAVIGATION', 1.399),\n",
      " ('FOOD_AND_DRINK', 1.241),\n",
      " ('EDUCATION', 1.162),\n",
      " ('ENTERTAINMENT', 0.959),\n",
      " ('LIBRARIES_AND_DEMO', 0.936),\n",
      " ('AUTO_AND_VEHICLES', 0.925),\n",
      " ('HOUSE_AND_HOME', 0.823),\n",
      " ('WEATHER', 0.801),\n",
      " ('EVENTS', 0.711),\n",
      " ('PARENTING', 0.654),\n",
      " ('ART_AND_DESIGN', 0.643),\n",
      " ('COMICS', 0.62),\n",
      " ('BEAUTY', 0.598)]\n"
     ]
    }
   ],
   "source": [
    "category_goo_frequency = frequency(free_goo_apps, 1)\n",
    "print('\\n', 'Android Apps by categoty column ')\n",
    "pprint.pprint(category_goo_frequency)"
   ]
  },
  {
   "cell_type": "markdown",
   "metadata": {},
   "source": [
    "The landscape seems significantly different on Google Play: there are not that many apps designed for fun, and it seems that a good number of apps are designed for practical purposes.\n",
    "\n",
    "However, if we investigate this further, we can see that the family category (which accounts for almost 19% of the apps) means mostly games for kids.\n",
    "\n",
    "Even so, practical apps seem to have a better representation on Google Play. This picture is also confirmed by the frequency table we see for the **Genres** column:"
   ]
  },
  {
   "cell_type": "code",
   "execution_count": 15,
   "metadata": {},
   "outputs": [
    {
     "name": "stdout",
     "output_type": "stream",
     "text": [
      "\n",
      " Android Apps by genres column\n",
      "[('Tools', 8.449),\n",
      " ('Entertainment', 6.069),\n",
      " ('Education', 5.347),\n",
      " ('Business', 4.591),\n",
      " ('Lifestyle', 3.892),\n",
      " ('Productivity', 3.892),\n",
      " ('Finance', 3.7),\n",
      " ('Medical', 3.531),\n",
      " ('Sports', 3.463),\n",
      " ('Personalization', 3.316),\n",
      " ('Communication', 3.237),\n",
      " ('Action', 3.102),\n",
      " ('Health & Fitness', 3.08),\n",
      " ('Photography', 2.944),\n",
      " ('News & Magazines', 2.798),\n",
      " ('Social', 2.662),\n",
      " ('Travel & Local', 2.324),\n",
      " ('Shopping', 2.245),\n",
      " ('Books & Reference', 2.143),\n",
      " ('Simulation', 2.042),\n",
      " ('Dating', 1.861),\n",
      " ('Arcade', 1.85),\n",
      " ('Video Players & Editors', 1.771),\n",
      " ('Casual', 1.76),\n",
      " ('Maps & Navigation', 1.399),\n",
      " ('Food & Drink', 1.241),\n",
      " ('Puzzle', 1.128),\n",
      " ('Racing', 0.993),\n",
      " ('Libraries & Demo', 0.936),\n",
      " ('Role Playing', 0.936),\n",
      " ('Auto & Vehicles', 0.925),\n",
      " ('Strategy', 0.914),\n",
      " ('House & Home', 0.823),\n",
      " ('Weather', 0.801),\n",
      " ('Events', 0.711),\n",
      " ('Adventure', 0.677),\n",
      " ('Comics', 0.609),\n",
      " ('Art & Design', 0.598),\n",
      " ('Beauty', 0.598),\n",
      " ('Parenting', 0.496),\n",
      " ('Card', 0.451),\n",
      " ('Casino', 0.429),\n",
      " ('Trivia', 0.417),\n",
      " ('Educational;Education', 0.395),\n",
      " ('Board', 0.384),\n",
      " ('Educational', 0.372),\n",
      " ('Education;Education', 0.338),\n",
      " ('Word', 0.259),\n",
      " ('Casual;Pretend Play', 0.237),\n",
      " ('Music', 0.203),\n",
      " ('Entertainment;Music & Video', 0.169),\n",
      " ('Puzzle;Brain Games', 0.169),\n",
      " ('Racing;Action & Adventure', 0.169),\n",
      " ('Casual;Brain Games', 0.135),\n",
      " ('Casual;Action & Adventure', 0.135),\n",
      " ('Arcade;Action & Adventure', 0.124),\n",
      " ('Action;Action & Adventure', 0.102),\n",
      " ('Educational;Pretend Play', 0.09),\n",
      " ('Entertainment;Brain Games', 0.079),\n",
      " ('Simulation;Action & Adventure', 0.079),\n",
      " ('Board;Brain Games', 0.079),\n",
      " ('Parenting;Education', 0.079),\n",
      " ('Art & Design;Creativity', 0.068),\n",
      " ('Educational;Brain Games', 0.068),\n",
      " ('Casual;Creativity', 0.068),\n",
      " ('Parenting;Music & Video', 0.068),\n",
      " ('Education;Pretend Play', 0.056),\n",
      " ('Education;Creativity', 0.045),\n",
      " ('Role Playing;Pretend Play', 0.045),\n",
      " ('Education;Brain Games', 0.034),\n",
      " ('Entertainment;Creativity', 0.034),\n",
      " ('Educational;Creativity', 0.034),\n",
      " ('Adventure;Action & Adventure', 0.034),\n",
      " ('Role Playing;Action & Adventure', 0.034),\n",
      " ('Educational;Action & Adventure', 0.034),\n",
      " ('Entertainment;Action & Adventure', 0.034),\n",
      " ('Puzzle;Action & Adventure', 0.034),\n",
      " ('Education;Action & Adventure', 0.034),\n",
      " ('Education;Music & Video', 0.034),\n",
      " ('Casual;Education', 0.023),\n",
      " ('Music;Music & Video', 0.023),\n",
      " ('Simulation;Pretend Play', 0.023),\n",
      " ('Puzzle;Creativity', 0.023),\n",
      " ('Sports;Action & Adventure', 0.023),\n",
      " ('Board;Action & Adventure', 0.023),\n",
      " ('Entertainment;Pretend Play', 0.023),\n",
      " ('Video Players & Editors;Music & Video', 0.023),\n",
      " ('Comics;Creativity', 0.011),\n",
      " ('Lifestyle;Pretend Play', 0.011),\n",
      " ('Art & Design;Pretend Play', 0.011),\n",
      " ('Entertainment;Education', 0.011),\n",
      " ('Arcade;Pretend Play', 0.011),\n",
      " ('Art & Design;Action & Adventure', 0.011),\n",
      " ('Strategy;Action & Adventure', 0.011),\n",
      " ('Music & Audio;Music & Video', 0.011),\n",
      " ('Health & Fitness;Education', 0.011),\n",
      " ('Casual;Music & Video', 0.011),\n",
      " ('Travel & Local;Action & Adventure', 0.011),\n",
      " ('Tools;Education', 0.011),\n",
      " ('Parenting;Brain Games', 0.011),\n",
      " ('Video Players & Editors;Creativity', 0.011),\n",
      " ('Health & Fitness;Action & Adventure', 0.011),\n",
      " ('Trivia;Education', 0.011),\n",
      " ('Lifestyle;Education', 0.011),\n",
      " ('Card;Action & Adventure', 0.011),\n",
      " ('Books & Reference;Education', 0.011),\n",
      " ('Simulation;Education', 0.011),\n",
      " ('Puzzle;Education', 0.011),\n",
      " ('Adventure;Education', 0.011),\n",
      " ('Role Playing;Brain Games', 0.011),\n",
      " ('Strategy;Education', 0.011),\n",
      " ('Racing;Pretend Play', 0.011),\n",
      " ('Communication;Creativity', 0.011),\n",
      " ('', 0.011),\n",
      " ('Strategy;Creativity', 0.011)]\n"
     ]
    }
   ],
   "source": [
    "genre_goo_frequency = frequency(free_goo_apps, -4)\n",
    "print('\\n', 'Android Apps by genres column')\n",
    "pprint.pprint(genre_goo_frequency)"
   ]
  },
  {
   "cell_type": "markdown",
   "metadata": {},
   "source": [
    "\n",
    "The difference between the Genres and the Category columns is not crystal clear, but one thing we can notice is that the Genres column is much more granular (it has more categories). We're only looking for the bigger picture at the moment, so *we'll only work with the Category column moving forward*.\n",
    "\n",
    "So, we found that the App Store is dominated by apps designed for fun, while Google Play shows a more balanced landscape of both practical and for-fun apps. \n",
    "\n",
    "**Now we'd like to get an idea about the kind of apps that have a large number of users**."
   ]
  },
  {
   "cell_type": "markdown",
   "metadata": {},
   "source": [
    "## Most Popular Apps by Genre on the App Store"
   ]
  },
  {
   "cell_type": "markdown",
   "metadata": {},
   "source": [
    "> One way to find out what genres are the most popular is to calculate the average number of installs for each app genre. \n",
    "\n",
    "> For the Google Play data set, we can find this information in the **Installs** (5 column).\n",
    "\n",
    "> This information is missing for the App Store data set. As a workaround, we'll take the total number of user ratings -  **rating_count_tot app** (6 column)."
   ]
  },
  {
   "cell_type": "code",
   "execution_count": 16,
   "metadata": {
    "scrolled": true
   },
   "outputs": [
    {
     "name": "stdout",
     "output_type": "stream",
     "text": [
      "Apps genre-- raiting-- number of apps-- total raiting\n",
      "[['Navigation', 86090.33, 6, 516542.0],\n",
      " ['Reference', 74942.11, 18, 1348958.0],\n",
      " ['Social Networking', 71548.35, 106, 7584125.0],\n",
      " ['Music', 57326.53, 66, 3783551.0],\n",
      " ['Weather', 52279.89, 28, 1463837.0],\n",
      " ['Book', 39758.5, 14, 556619.0],\n",
      " ['Food & Drink', 33333.92, 26, 866682.0],\n",
      " ['Finance', 31467.94, 36, 1132846.0],\n",
      " ['Photo & Video', 28441.54, 160, 4550647.0],\n",
      " ['Travel', 28243.8, 40, 1129752.0],\n",
      " ['Shopping', 26919.69, 84, 2261254.0],\n",
      " ['Health & Fitness', 23298.02, 65, 1514371.0],\n",
      " ['Sports', 23008.9, 69, 1587614.0],\n",
      " ['Games', 22788.67, 1874, 42705967.0],\n",
      " ['News', 21248.02, 43, 913665.0],\n",
      " ['Productivity', 21028.41, 56, 1177591.0],\n",
      " ['Utilities', 18684.46, 81, 1513441.0],\n",
      " ['Lifestyle', 16485.76, 51, 840774.0],\n",
      " ['Entertainment', 14029.83, 254, 3563577.0],\n",
      " ['Business', 7491.12, 17, 127349.0],\n",
      " ['Education', 7003.98, 118, 826470.0],\n",
      " ['Catalogs', 4004.0, 4, 16016.0],\n",
      " ['Medical', 612.0, 6, 3672.0]]\n"
     ]
    }
   ],
   "source": [
    "# average number of installs for each genre \n",
    "# (rating_count_tot for Apple apps, Installs for Android)\n",
    "# data - dataset, \n",
    "# col_num - column with rateing rating_count_tot (6 by default for Apple apps)\n",
    "# g_num - column with genre (-5 by default for Apple apps)\n",
    "\n",
    "def raiting(data, genre_frequency, col_num = 6, g_num = -5 ):\n",
    "    \n",
    "    genre = dict(genre_frequency)\n",
    "    genre_rate = []\n",
    "    for g in genre: \n",
    "        total = 0\n",
    "        len_rate = 0\n",
    "        for item in data:\n",
    "            if g == item[g_num]:\n",
    "                total = total + float(item[col_num])\n",
    "                len_rate = len_rate + 1\n",
    "        rating = total / len_rate \n",
    "        genre_rate.append([ g, round(rating,2), len_rate, total ])\n",
    "\n",
    "    l = lambda x: x[1]\n",
    "    rating = sorted(genre_rate, key=l, reverse=True)\n",
    "    \n",
    "    return rating\n",
    "        \n",
    "rate = raiting(free_ios_apps, genre_ios_frequency)\n",
    "print('Apps genre--', 'raiting--', 'number of apps--', 'total raiting')\n",
    "pprint.pprint(rate)"
   ]
  },
  {
   "cell_type": "markdown",
   "metadata": {},
   "source": [
    "> **Navigation** apps have the highest number of user reviews, but there are only 6 apps in this genre and this rating is heavily influenced by Waze and Google Maps, which have close to half a million user reviews together\n",
    "\n",
    "> Second position is - **Reference**, 18 apps, total rating is 1348958.0, and most part of this - 985920 - for Bible\n",
    "\n",
    "> **Social networking** apps, - the average number is heavily influenced by a few giants like Facebook, Pinterest, Skype, etc. "
   ]
  },
  {
   "cell_type": "code",
   "execution_count": 17,
   "metadata": {},
   "outputs": [
    {
     "name": "stdout",
     "output_type": "stream",
     "text": [
      "\n",
      " Navigation\n",
      "[['Waze - GPS Navigation, Maps & Real-time Traffic', 345046.0],\n",
      " ['Google Maps - Navigation & Transit', 154911.0],\n",
      " ['Geocaching®', 12811.0],\n",
      " ['CoPilot GPS – Car Navigation & Offline Maps', 3582.0],\n",
      " ['ImmobilienScout24: Real Estate Search in Germany', 187.0],\n",
      " ['Railway Route Search', 5.0]]\n",
      "\n",
      " Reference\n",
      "[['Bible', 985920.0],\n",
      " ['Dictionary.com Dictionary & Thesaurus', 200047.0],\n",
      " ['Dictionary.com Dictionary & Thesaurus for iPad', 54175.0],\n",
      " ['Google Translate', 26786.0],\n",
      " ['Muslim Pro: Ramadan 2017 Prayer Times, Azan, Quran', 18418.0],\n",
      " ['New Furniture Mods - Pocket Wiki & Game Tools for Minecraft PC Edition',\n",
      "  17588.0],\n",
      " ['Merriam-Webster Dictionary', 16849.0],\n",
      " ['Night Sky', 12122.0],\n",
      " ['City Maps for Minecraft PE - The Best Maps for Minecraft Pocket Edition '\n",
      "  '(MCPE)',\n",
      "  8535.0],\n",
      " ['LUCKY BLOCK MOD ™ for Minecraft PC Edition - The Best Pocket Wiki & Mods '\n",
      "  'Installer Tools',\n",
      "  4693.0]]\n",
      "\n",
      " Social Networking\n",
      "[['Facebook', 2974676.0],\n",
      " ['Pinterest', 1061624.0],\n",
      " ['Skype for iPhone', 373519.0],\n",
      " ['Messenger', 351466.0],\n",
      " ['Tumblr', 334293.0],\n",
      " ['WhatsApp Messenger', 287589.0],\n",
      " ['Kik', 260965.0],\n",
      " ['ooVoo – Free Video Call, Text and Voice', 177501.0],\n",
      " ['TextNow - Unlimited Text + Calls', 164963.0],\n",
      " ['Viber Messenger – Text & Call', 164249.0]]\n"
     ]
    }
   ],
   "source": [
    "# Function to print data by Category in convenient way\n",
    "def print_top10_category(data, category, col_name, col_num, col_category):\n",
    "    print('\\n', category)\n",
    "    res_category = []\n",
    "    for item in data:\n",
    "        if item[col_category] == category:\n",
    "            res_category.append([item[col_name], float(item[col_num])])\n",
    "    res_category = sorted(res_category, key=lambda num: num[1], reverse=True)\n",
    "    pprint.pprint(res_category[:10]) \n",
    "\n",
    "print_top10_category(free_ios_apps, 'Navigation', 2, 6, -5)\n",
    "print_top10_category(free_ios_apps, 'Reference', 2, 6, -5)\n",
    "print_top10_category(free_ios_apps, 'Social Networking', 2, 6, -5)"
   ]
  },
  {
   "cell_type": "markdown",
   "metadata": {},
   "source": [
    "> Our aim is to find popular genres, but Navigation, Social networking or Reference apps might seem more popular than they really are. The average number of ratings seem to be skewed by very few apps which have hundreds of thousands of user ratings. \n",
    "\n",
    "> Other genres that seem popular include weather, book, food and drink, or finance. \n",
    "\n",
    "* **Food and drink** — examples here include Starbucks, Dunkin' Donuts, McDonald's, etc.\n",
    "* **Weather** apps — people generally don't spend too much time in-app, and the chances of making profit from in-app adds are low\n",
    "* **Finance** apps — these apps involve banking, paying bills, money transfer, etc. Building a finance app requires domain knowledge\n",
    "\n",
    "> The market might be a bit saturated with for-fun apps, which means a practical app might have more of a chance to stand out among the huge number of apps on the App Store. May be it could be  **Health & Fitness** \n",
    "\n",
    "*  genre-- raiting-- number of apps-- total raiting\n",
    "* ['Health & Fitness', 23298.02, 65, 1 514 371.0]\n"
   ]
  },
  {
   "cell_type": "code",
   "execution_count": 18,
   "metadata": {},
   "outputs": [
    {
     "name": "stdout",
     "output_type": "stream",
     "text": [
      "\n",
      " Health & Fitness\n",
      "[['Calorie Counter & Diet Tracker by MyFitnessPal', 507706.0],\n",
      " ['Lose It! – Weight Loss Program and Calorie Counter', 373835.0],\n",
      " ['Weight Watchers', 136833.0],\n",
      " ['Sleep Cycle alarm clock', 104539.0],\n",
      " ['Fitbit', 90496.0],\n",
      " ['Period Tracker Lite', 53620.0],\n",
      " ['Nike+ Training Club - Workouts & Fitness Plans', 33969.0],\n",
      " ['Plant Nanny - Water Reminder with Cute Plants', 27421.0],\n",
      " ['Sworkit - Custom Workouts for Exercise & Fitness', 16819.0],\n",
      " ['Clue Period Tracker: Period & Ovulation Tracker', 13436.0]]\n"
     ]
    }
   ],
   "source": [
    "print_top10_category(free_ios_apps, 'Health & Fitness', 2, 6, -5)"
   ]
  },
  {
   "cell_type": "markdown",
   "metadata": {},
   "source": [
    "## Most Popular Apps by Genre on Google Play"
   ]
  },
  {
   "cell_type": "markdown",
   "metadata": {},
   "source": [
    "> For the Google Play market, we have data about the number of installs. But we can see that most values are open-ended (100+, 1,000+, 5,000+, etc.).\n",
    "\n",
    "> We don't need very precise data for our purposes — we only want to get an idea which app genres attract the most users. We're going to leave the numbers as they are, which means that we'll consider that an app with 100,000+ installs has 100,000 installs, and an app with 1,000,000+ installs has 1,000,000 installs, and so on.\n",
    "\n",
    "> To perform computations we'll need to convert each number from string to float - we need to **remove the commas and the plus** characters"
   ]
  },
  {
   "cell_type": "code",
   "execution_count": 19,
   "metadata": {
    "scrolled": true
   },
   "outputs": [
    {
     "name": "stdout",
     "output_type": "stream",
     "text": [
      "Apps genre-- raiting-- number of apps-- total raiting\n",
      "[['COMMUNICATION', 38456119.17, 287, 11036906201.0],\n",
      " ['VIDEO_PLAYERS', 24727872.45, 159, 3931731720.0],\n",
      " ['SOCIAL', 23253652.13, 236, 5487861902.0],\n",
      " ['PHOTOGRAPHY', 17840110.4, 261, 4656268815.0],\n",
      " ['PRODUCTIVITY', 16787331.34, 345, 5791629314.0],\n",
      " ['GAME', 15588015.6, 862, 13436869450.0],\n",
      " ['TRAVEL_AND_LOCAL', 13984077.71, 207, 2894704086.0],\n",
      " ['ENTERTAINMENT', 11640705.88, 85, 989460000.0],\n",
      " ['TOOLS', 10801391.3, 750, 8101043474.0],\n",
      " ['NEWS_AND_MAGAZINES', 9549178.47, 248, 2368196260.0],\n",
      " ['BOOKS_AND_REFERENCE', 8767811.89, 190, 1665884260.0],\n",
      " ['SHOPPING', 7036877.31, 199, 1400338585.0],\n",
      " ['PERSONALIZATION', 5201482.61, 294, 1529235888.0],\n",
      " ['WEATHER', 5074486.2, 71, 360288520.0],\n",
      " ['HEALTH_AND_FITNESS', 4188821.99, 273, 1143548402.0],\n",
      " ['MAPS_AND_NAVIGATION', 4056941.77, 124, 503060780.0],\n",
      " ['FAMILY', 3695641.82, 1676, 6193895690.0],\n",
      " ['SPORTS', 3638640.14, 301, 1095230683.0],\n",
      " ['ART_AND_DESIGN', 1986335.09, 57, 113221100.0],\n",
      " ['FOOD_AND_DRINK', 1924897.74, 110, 211738751.0],\n",
      " ['EDUCATION', 1833495.15, 103, 188850000.0],\n",
      " ['BUSINESS', 1712290.15, 407, 696902090.0],\n",
      " ['LIFESTYLE', 1433675.59, 347, 497485429.0],\n",
      " ['FINANCE', 1387692.48, 328, 455163132.0],\n",
      " ['HOUSE_AND_HOME', 1331540.56, 73, 97202461.0],\n",
      " ['DATING', 854028.83, 165, 140914757.0],\n",
      " ['COMICS', 817657.27, 55, 44971150.0],\n",
      " ['AUTO_AND_VEHICLES', 647317.82, 82, 53080061.0],\n",
      " ['LIBRARIES_AND_DEMO', 638503.73, 83, 52995810.0],\n",
      " ['PARENTING', 542603.62, 58, 31471010.0],\n",
      " ['BEAUTY', 513151.89, 53, 27197050.0],\n",
      " ['EVENTS', 253542.22, 63, 15973160.0],\n",
      " ['MEDICAL', 120550.62, 313, 37732344.0]]\n"
     ]
    }
   ],
   "source": [
    "for item in free_goo_apps:\n",
    "    item[5] = item[5].replace(',', '')\n",
    "    item[5] = item[5].replace('+', '')\n",
    "    \n",
    "rate_goo = raiting(free_goo_apps, category_goo_frequency, 5, 1)\n",
    "print('Apps genre--', 'raiting--', 'number of apps--', 'total raiting')\n",
    "pprint.pprint(rate_goo)"
   ]
  },
  {
   "cell_type": "code",
   "execution_count": 20,
   "metadata": {
    "scrolled": true
   },
   "outputs": [
    {
     "name": "stdout",
     "output_type": "stream",
     "text": [
      "\n",
      " COMMUNICATION\n",
      "[['WhatsApp Messenger', 1000000000.0],\n",
      " ['Messenger – Text and Video Chat for Free', 1000000000.0],\n",
      " ['Skype - free IM & video calls', 1000000000.0],\n",
      " ['Google Chrome: Fast & Secure', 1000000000.0],\n",
      " ['Gmail', 1000000000.0],\n",
      " ['Hangouts', 1000000000.0],\n",
      " ['Google Duo - High Quality Video Calls', 500000000.0],\n",
      " ['imo free video calls and chat', 500000000.0],\n",
      " ['LINE: Free Calls & Messages', 500000000.0],\n",
      " ['UC Browser - Fast Download Private & Secure', 500000000.0]]\n",
      "\n",
      " SOCIAL\n",
      "[['Facebook', 1000000000.0],\n",
      " ['Google+', 1000000000.0],\n",
      " ['Instagram', 1000000000.0],\n",
      " ['Facebook Lite', 500000000.0],\n",
      " ['Snapchat', 500000000.0],\n",
      " ['Tumblr', 100000000.0],\n",
      " ['Pinterest', 100000000.0],\n",
      " ['Badoo - Free Chat & Dating App', 100000000.0],\n",
      " ['Tango - Live Video Broadcast', 100000000.0],\n",
      " ['LinkedIn', 100000000.0]]\n",
      "\n",
      " TRAVEL_AND_LOCAL\n",
      "[['Maps - Navigate & Explore', 1000000000.0],\n",
      " ['Google Street View', 1000000000.0],\n",
      " ['Booking.com Travel Deals', 100000000.0],\n",
      " ['TripAdvisor Hotels Flights Restaurants Attractions', 100000000.0],\n",
      " ['Google Earth', 100000000.0],\n",
      " ['trivago: Hotels & Travel', 50000000.0],\n",
      " ['VZ Navigator', 50000000.0],\n",
      " ['2GIS: directory & navigator', 50000000.0],\n",
      " ['MAPS.ME – Offline Map and Travel Navigation', 50000000.0],\n",
      " ['KAYAK Flights, Hotels & Cars', 10000000.0]]\n",
      "\n",
      " SHOPPING\n",
      "[['eBay: Buy & Sell this Summer - Discover Deals Now!', 100000000.0],\n",
      " ['Amazon Shopping', 100000000.0],\n",
      " ['Flipkart Online Shopping App', 100000000.0],\n",
      " ['AliExpress - Smarter Shopping, Better Living', 100000000.0],\n",
      " ['Wish - Shopping Made Fun', 100000000.0],\n",
      " ['letgo: Buy & Sell Used Stuff, Cars & Real Estate', 50000000.0],\n",
      " ['Lazada - Online Shopping & Deals', 50000000.0],\n",
      " ['OLX - Buy and Sell', 50000000.0],\n",
      " ['The birth', 50000000.0],\n",
      " ['Mercado Libre: Find your favorite brands', 50000000.0]]\n",
      "\n",
      " PRODUCTIVITY\n",
      "[['Google Drive', 1000000000.0],\n",
      " ['Microsoft Word', 500000000.0],\n",
      " ['Dropbox', 500000000.0],\n",
      " ['Google Calendar', 500000000.0],\n",
      " ['Cloud Print', 500000000.0],\n",
      " ['Microsoft Outlook', 100000000.0],\n",
      " ['Microsoft OneDrive', 100000000.0],\n",
      " ['Microsoft OneNote', 100000000.0],\n",
      " ['Google Keep', 100000000.0],\n",
      " ['ES File Explorer File Manager', 100000000.0]]\n"
     ]
    }
   ],
   "source": [
    "print_top10_category(free_goo_apps, 'COMMUNICATION', 0, 5, 1)\n",
    "print_top10_category(free_goo_apps, 'SOCIAL', 0, 5, 1)\n",
    "print_top10_category(free_goo_apps, 'TRAVEL_AND_LOCAL', 0, 5, 1)\n",
    "print_top10_category(free_goo_apps, 'SHOPPING', 0, 5, 1)\n",
    "print_top10_category(free_goo_apps, 'PRODUCTIVITY', 0, 5, 1)"
   ]
  },
  {
   "cell_type": "markdown",
   "metadata": {},
   "source": [
    "> **Communication** apps have the most installs: 38 456 119. This number is heavily skewed up by a few apps that have over one billion installs (WhatsApp, Facebook Messenger, Skype, Google Chrome, Gmail, and Hangouts)\n",
    "\n",
    "> If we removed all the communication apps that have over 100 million installs, the average would be reduced roughly ten times\n"
   ]
  },
  {
   "cell_type": "code",
   "execution_count": 21,
   "metadata": {},
   "outputs": [
    {
     "name": "stdout",
     "output_type": "stream",
     "text": [
      "   Apps genre---   raiting--   number of apps-- total raiting\n",
      "[['COMMUNICATION', 3603485.39, 260, 936906201.0]]\n"
     ]
    }
   ],
   "source": [
    "goo_communication_100 = []\n",
    "for item in free_goo_apps:\n",
    "    if item[1] == 'COMMUNICATION' and float(item[5]) < 100000000:\n",
    "        goo_communication_100.append(item)\n",
    "\n",
    "category_goo_frequency_communication =[]\n",
    "for item in category_goo_frequency:\n",
    "    if 'COMMUNICATION' in item:\n",
    "        category_goo_frequency_communication.append(item)\n",
    "\n",
    "rate_goo_comm = raiting(goo_communication_100, category_goo_frequency_communication, 5, 1)\n",
    "print('   Apps genre---  ', 'raiting--  ', 'number of apps--', 'total raiting')\n",
    "pprint.pprint(rate_goo_comm)"
   ]
  },
  {
   "cell_type": "markdown",
   "metadata": {},
   "source": [
    "\n",
    "> the same situation is in categories: SOCIAL, TRAVEL_AND_LOCAL, SHOPPING.\n",
    "\n",
    "> Again, the main concern is that these app genres might seem more popular than they really are. Moreover, these niches seem to be dominated by a few giants who are hard to compete against.\n",
    "\n",
    "> The GAME genre seems pretty popular, but previously we found out this part of the market seems a bit saturated (862  in Android apps and  1874 IOS Apps)\n",
    "\n",
    "> **HEALTH_AND_FITNESS** genre looks fairly popular as well, with an average number of installs of 4,188,821 (total - 273 apps in Google Play).\n",
    "\n",
    ">  If we explore this in more depth, since we found this genre has some potential to work well on the App Store (we are looking for genre that shows potential for being profitable on both the App Store \n",
    "and Google Play). 65 apps in App Store, 23298.02 raiting\n",
    "\n",
    "> Let's take a look at apps where over 50 million installs and their number of installs"
   ]
  },
  {
   "cell_type": "code",
   "execution_count": 22,
   "metadata": {},
   "outputs": [
    {
     "name": "stdout",
     "output_type": "stream",
     "text": [
      "\n",
      " HEALTH_AND_FITNESS\n",
      "[['Samsung Health', 500000000.0],\n",
      " ['Period Tracker - Period Calendar Ovulation Tracker', 100000000.0]]\n"
     ]
    }
   ],
   "source": [
    "goo_health_50 = []\n",
    "for item in free_goo_apps:\n",
    "    if item[1] == 'HEALTH_AND_FITNESS' and float(item[5]) > 50000000:\n",
    "        goo_health_50.append(item)\n",
    "\n",
    "print_top10_category(goo_health_50, 'HEALTH_AND_FITNESS', 0, 5, 1)"
   ]
  },
  {
   "cell_type": "markdown",
   "metadata": {},
   "source": [
    ">  There's only two apps with installs > 50mln. There are only a few very popular apps, so this market still shows potential. \n",
    "\n",
    "> Let's try to get some app ideas based on the kind of apps that are somewhere in the middle in terms of popularity (between 100,000 and 10,000,000 downloads):"
   ]
  },
  {
   "cell_type": "code",
   "execution_count": 25,
   "metadata": {
    "scrolled": false
   },
   "outputs": [
    {
     "name": "stdout",
     "output_type": "stream",
     "text": [
      "HEALTH_AND_FITNESS\n",
      "Step Counter - Calorie Counter : 500000\n",
      "Lose Belly Fat in 30 Days - Flat Stomach : 5000000\n",
      "Pedometer - Step Counter Free & Calorie Burner : 1000000\n",
      "Sportractive GPS Running Cycling Distance Tracker : 1000000\n",
      "Home Workout for Men - Bodybuilding : 1000000\n",
      "Buttocks and Abdomen : 500000\n",
      "Running & Jogging : 500000\n",
      "Sleep Sounds : 1000000\n",
      "Cycling - Bike Tracker : 500000\n",
      "Calorie Counter - EasyFit free : 1000000\n",
      "Aunjai i lert u : 500000\n",
      "BetterMe: Weight Loss Workouts : 5000000\n",
      "Bike Computer - GPS Cycling Tracker : 1000000\n",
      "Running Distance Tracker + : 1000000\n",
      "Walking: Pedometer diet : 1000000\n",
      "Recipes for hair and face tried : 500000\n",
      "Keep Trainer - Workout Trainer & Fitness Coach : 1000000\n",
      "Couch to 10K Running Trainer : 500000\n",
      "PumpUp — Fitness Community : 1000000\n",
      "Home workouts - fat burning, abs, legs, arms,chest : 1000000\n",
      "Running Weight Loss Walking Jogging Hiking FITAPP : 1000000\n",
      "Fabulous: Motivate Me! Meditate, Relax, Sleep : 5000000\n",
      "StrongLifts 5x5 Workout Gym Log & Personal Trainer : 1000000\n",
      "Run with Map My Run : 5000000\n",
      "Workout Tracker & Gym Trainer - Fitness Log Book : 500000\n",
      "Fitbit Coach : 1000000\n",
      "JEFIT Workout Tracker, Weight Lifting, Gym Log App : 5000000\n",
      "Map My Ride GPS Cycling Riding : 1000000\n",
      "Weight Loss Running by Verv : 1000000\n",
      "Sworkit: Workouts & Fitness Plans : 5000000\n",
      "Map My Fitness Workout Trainer : 1000000\n",
      "Sports Tracker Running Cycling : 5000000\n",
      "Seven - 7 Minute Workout Training Challenge : 1000000\n",
      "Daily Yoga - Yoga Fitness Plans : 5000000\n",
      "Relax Meditation: Sleep with Sleep Sounds : 1000000\n",
      "Meditate OM : 1000000\n",
      "Yoga - Track Yoga : 500000\n",
      "My Chakra Meditation : 500000\n",
      "Meditation Music - Relax, Yoga : 1000000\n",
      "Down Dog: Great Yoga Anywhere : 500000\n",
      "Simply Yoga - Fitness Trainer for Workouts & Poses : 1000000\n",
      "Relax Melodies: Sleep Sounds : 5000000\n",
      "Simple Habit Meditation : 500000\n",
      "Pregnancy & Baby Tracker : 1000000\n",
      "My Cycles Period and Ovulation : 1000000\n",
      "I’m Expecting - Pregnancy App : 1000000\n",
      "The Bump Pregnancy Tracker : 1000000\n",
      "My Days - Ovulation Calendar & Period Tracker ™ : 5000000\n",
      "Best Ovulation Tracker Fertility Calendar App Glow : 1000000\n",
      "Eve Period Tracker - Love, Sex & Relationships App : 1000000\n",
      "Fertility Friend Ovulation App : 1000000\n",
      "Pregnancy Tracker : 500000\n",
      "Spot On Period, Birth Control, & Cycle Tracker : 500000\n",
      "OvuView: Ovulation and Fertility : 1000000\n",
      "WomanLog Calendar : 5000000\n",
      "Geocaching® : 5000000\n",
      "Map My Hike GPS Hiking : 500000\n",
      "ViewRanger - Hike, Ride or Walk : 1000000\n",
      "Runtastic Mountain Bike GPS Tracker : 1000000\n",
      "AllTrails: Hiking, Running & Mountain Bike Trails : 1000000\n",
      "YAZIO Calorie Counter, Nutrition Diary & Diet Plan : 5000000\n",
      "Technutri - calorie counter, diet and carb tracker : 5000000\n",
      "Couch to 5K by RunDouble : 1000000\n",
      "Fooducate Healthy Weight Loss & Calorie Counter : 1000000\n",
      "Weight Watchers Mobile : 5000000\n",
      "Walk with Map My Walk : 5000000\n",
      "Calorie Counter - MyNetDiary : 1000000\n",
      "10 Best Foods for You : 500000\n",
      "MyPlate Calorie Tracker : 1000000\n",
      "My Diet Diary Calorie Counter : 1000000\n",
      "Weight Loss Tracker - RecStyle : 1000000\n",
      "Health and Nutrition Guide : 500000\n",
      "Calorie Counter & Diet Tracker : 1000000\n",
      "Monitor Your Weight : 5000000\n",
      "Self Healing : 500000\n",
      "Binaural Beats Therapy : 1000000\n",
      "Pacifica - Stress & Anxiety : 500000\n",
      "White Sound Pro : 500000\n",
      "Insight Timer - Free Meditation App : 1000000\n",
      "Self-help Anxiety Management : 500000\n",
      "Brain Waves - Binaural Beats : 500000\n",
      "Prana Breath: Calm & Meditate : 1000000\n",
      "7 Cups: Anxiety & Stress Chat : 500000\n",
      "Calm - Meditate, Sleep, Relax : 5000000\n",
      "White Noise Lite : 1000000\n",
      "Stop, Breathe & Think: Meditation & Mindfulness : 1000000\n",
      "Oral-B App : 1000000\n",
      "f.lux (preview, root-only) : 500000\n",
      "H Band 2.0 : 500000\n",
      "30 Day Ab Challenge : 500000\n",
      "Ultimate Ab & Core Workouts : 1000000\n",
      "6 Pack Promise - Ultimate Abs : 1000000\n",
      "Abs workout 7 minutes : 1000000\n",
      "30 Day Ab Challenge FREE : 1000000\n",
      "Ab Workouts : 1000000\n",
      "Abs workout - 21 Day Fitness Challenge : 1000000\n",
      "Ladies' Ab Workout FREE : 1000000\n",
      "Runtastic Sleep Better: Sleep Cycle & Smart Alarm : 5000000\n",
      "Twilight: Blue light filter : 5000000\n",
      "Women\"s Health Tips(Breast,Face,Body,weight lose) : 1000000\n",
      "Blood pressure : 500000\n",
      "Bacteria Vaginosis : 1000000\n",
      "Stop Smoking - EasyQuit free : 500000\n",
      "Ideal Weight, BMI Calculator : 5000000\n",
      "Fitness & Bodybuilding : 5000000\n",
      "Burn Your Fat With Me! FG : 1000000\n"
     ]
    }
   ],
   "source": [
    "goo_health = []\n",
    "print('HEALTH_AND_FITNESS')\n",
    "for item in free_goo_apps:\n",
    "    if item[1] == 'HEALTH_AND_FITNESS' and float(item[5]) < 10000000  and float(item[5]) > 100000:\n",
    "        goo_health.append(item)\n",
    "        print(item[0], ':', item[5])"
   ]
  },
  {
   "cell_type": "markdown",
   "metadata": {},
   "source": [
    ">This genre includes a variety of different apps - Calorie Counter, exercises, Diet Diary, Timer, Recipes"
   ]
  },
  {
   "cell_type": "markdown",
   "metadata": {},
   "source": [
    "# Conclusions"
   ]
  },
  {
   "cell_type": "markdown",
   "metadata": {},
   "source": [
    "In this project, we analyzed data about the App Store and Google Play mobile apps with the goal of recommending an app profile that can be profitable for both markets.\n",
    "\n",
    "We concluded that makin apps in category HEALTH_AND_FITNESS - could be profitable for both the Google Play and the App Store markets. The markets are already full of such apps, so we need to add some special features or collect some different functions in one application."
   ]
  }
 ],
 "metadata": {
  "kernelspec": {
   "display_name": "Python 3",
   "language": "python",
   "name": "python3"
  },
  "language_info": {
   "codemirror_mode": {
    "name": "ipython",
    "version": 3
   },
   "file_extension": ".py",
   "mimetype": "text/x-python",
   "name": "python",
   "nbconvert_exporter": "python",
   "pygments_lexer": "ipython3",
   "version": "3.6.7"
  }
 },
 "nbformat": 4,
 "nbformat_minor": 2
}
